{
 "cells": [
  {
   "cell_type": "markdown",
   "metadata": {},
   "source": [
    "# Classifying Fashion-MNIST\n",
    "\n",
    "Now it's your turn to build and train a neural network. You'll be using the [Fashion-MNIST dataset](https://github.com/zalandoresearch/fashion-mnist), a drop-in replacement for the MNIST dataset. MNIST is actually quite trivial with neural networks where you can easily achieve better than 97% accuracy. Fashion-MNIST is a set of 28x28 greyscale images of clothes. It's more complex than MNIST, so it's a better representation of the actual performance of your network, and a better representation of datasets you'll use in the real world.\n",
    "\n",
    <img src='https://github.com/MukulMaheshwari/Fashion-MNIST-Classification/blob/master/fashion-mnist-sprite.png' width=500px>\n,
    "\n",
    "In this notebook, you'll build your own neural network. For the most part, you could just copy and paste the code from Part 3, but you wouldn't be learning. It's important for you to write the code yourself and get it to work. Feel free to consult the previous notebooks though as you work through this.\n",
    "\n",
    "First off, let's load the dataset through torchvision."
   ]
  },
  {
   "cell_type": "code",
   "execution_count": 1,
   "metadata": {
    "collapsed": true
   },
   "outputs": [],
   "source": [
    "import torch\n",
    "from torchvision import datasets, transforms\n",
    "import helper\n",
    "\n",
    "# Define a transform to normalize the data\n",
    "transform = transforms.Compose([transforms.ToTensor(),\n",
    "                                transforms.Normalize((0.5,), (0.5,))])\n",
    "# Download and load the training data\n",
    "trainset = datasets.FashionMNIST('~/.pytorch/F_MNIST_data/', download=True, train=True, transform=transform)\n",
    "trainloader = torch.utils.data.DataLoader(trainset, batch_size=64, shuffle=True)\n",
    "\n",
    "# Download and load the test data\n",
    "testset = datasets.FashionMNIST('~/.pytorch/F_MNIST_data/', download=True, train=False, transform=transform)\n",
    "testloader = torch.utils.data.DataLoader(testset, batch_size=64, shuffle=True)"
   ]
  },
  {
   "cell_type": "markdown",
   "metadata": {},
   "source": [
    "Here we can see one of the images."
   ]
  },
  {
   "cell_type": "code",
   "execution_count": 2,
   "metadata": {
    "collapsed": true
   },
   "outputs": [],
   "source": [
    "image, label = next(iter(trainloader))\n",
    "helper.imshow(image[0,:]);"
   ]
  },
  {
   "cell_type": "markdown",
   "metadata": {},
   "source": [
    "## Building the network\n",
    "\n",
    "Here you should define your network. As with MNIST, each image is 28x28 which is a total of 784 pixels, and there are 10 classes. You should include at least one hidden layer. We suggest you use ReLU activations for the layers and to return the logits or log-softmax from the forward pass. It's up to you how many layers you add and the size of those layers."
   ]
  },
  {
   "cell_type": "code",
   "execution_count": 3,
   "metadata": {
    "collapsed": true
   },
   "outputs": [],
   "source": [
    "from torch import nn, optim\n",
    "import torch.nn.functional as F"
   ]
  },
  {
   "cell_type": "code",
   "execution_count": 4,
   "metadata": {
    "collapsed": true
   },
   "outputs": [],
   "source": [
    "# TODO: Define your network architecture here\n",
    "class Classifier(nn.Module):\n",
    "    def __init__(self):\n",
    "        super().__init__()\n",
    "        self.fc1 = nn.Linear(784, 256)\n",
    "        self.fc2 = nn.Linear(256, 128)\n",
    "        self.fc3 = nn.Linear(128, 64)\n",
    "        self.fc4 = nn.Linear(64, 10)\n",
    "        \n",
    "    def forward(self, x):\n",
    "        # make sure input tensor is flattened\n",
    "        x = x.view(x.shape[0], -1)\n",
    "        \n",
    "        x = F.relu(self.fc1(x))\n",
    "        x = F.relu(self.fc2(x))\n",
    "        x = F.relu(self.fc3(x))\n",
    "        x = F.log_softmax(self.fc4(x), dim=1)\n",
    "        \n",
    "        return x"
   ]
  },
  {
   "cell_type": "markdown",
   "metadata": {},
   "source": [
    "# Train the network\n",
    "\n",
    "Now you should create your network and train it. First you'll want to define [the criterion](http://pytorch.org/docs/master/nn.html#loss-functions) (something like `nn.CrossEntropyLoss` or `nn.NLLLoss`) and [the optimizer](http://pytorch.org/docs/master/optim.html) (typically `optim.SGD` or `optim.Adam`).\n",
    "\n",
    "Then write the training code. Remember the training pass is a fairly straightforward process:\n",
    "\n",
    "* Make a forward pass through the network to get the logits \n",
    "* Use the logits to calculate the loss\n",
    "* Perform a backward pass through the network with `loss.backward()` to calculate the gradients\n",
    "* Take a step with the optimizer to update the weights\n",
    "\n",
    "By adjusting the hyperparameters (hidden units, learning rate, etc), you should be able to get the training loss below 0.4."
   ]
  },
  {
   "cell_type": "code",
   "execution_count": 5,
   "metadata": {
    "collapsed": true
   },
   "outputs": [],
   "source": [
    "# TODO: Create the network, define the criterion and optimizer\n",
    "model = Classifier()\n",
    "criterion = nn.NLLLoss()\n",
    "optimizer = optim.Adam(model.parameters(), lr=0.003)"
   ]
  },
  {
   "cell_type": "code",
   "execution_count": 6,
   "metadata": {},
   "outputs": [
    {
     "name": "stdout",
     "output_type": "stream",
     "text": [
      "Training loss: 0.5125942387179271\n",
      "Training loss: 0.39441663946614847\n",
      "Training loss: 0.35394210826708816\n",
      "Training loss: 0.3331713732768859\n",
      "Training loss: 0.31764637900472703\n"
     ]
    }
   ],
   "source": [
    "# TODO: Train the network here\n",
    "epochs = 5\n",
    "\n",
    "for e in range(epochs):\n",
    "    running_loss = 0\n",
    "    for images, labels in trainloader:\n",
    "        log_ps = model(images)\n",
    "        loss = criterion(log_ps, labels)\n",
    "        \n",
    "        optimizer.zero_grad()\n",
    "        loss.backward()\n",
    "        optimizer.step()\n",
    "        \n",
    "        running_loss += loss.item()\n",
    "    else:\n",
    "        print(f\"Training loss: {running_loss/len(trainloader)}\")"
   ]
  },
  {
   "cell_type": "code",
   "execution_count": 7,
   "metadata": {},
   "outputs": [
    {
     "data": {
      "image/png": "iVBORw0KGgoAAAANSUhEUgAAA04AAAGZCAYAAAC+BGE/AAAABHNCSVQICAgIfAhkiAAAAAlwSFlz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\nklTBwEmSJEmSKhg4SZIkSVKF/wHMrb33D70shwAAAABJRU5ErkJggg==\n",
      "text/plain": [
       "<Figure size 432x648 with 2 Axes>"
      ]
     },
     "metadata": {
      "image/png": {
       "height": 204,
       "width": 423
      }
     },
     "output_type": "display_data"
    }
   ],
   "source": [
    "%matplotlib inline\n",
    "%config InlineBackend.figure_format = 'retina'\n",
    "\n",
    "import helper\n",
    "\n",
    "# Test out your network!\n",
    "\n",
    "dataiter = iter(testloader)\n",
    "images, labels = dataiter.next()\n",
    "img = images[1]\n",
    "\n",
    "# TODO: Calculate the class probabilities (softmax) for img\n",
    "ps = torch.exp(model(img))\n",
    "\n",
    "# Plot the image and probabilities\n",
    "helper.view_classify(img, ps, version='Fashion')"
   ]
  }
 ],
 "metadata": {
  "kernelspec": {
   "display_name": "Python 3",
   "language": "python",
   "name": "python3"
  },
  "language_info": {
   "codemirror_mode": {
    "name": "ipython",
    "version": 3
   },
   "file_extension": ".py",
   "mimetype": "text/x-python",
   "name": "python",
   "nbconvert_exporter": "python",
   "pygments_lexer": "ipython3",
   "version": "3.6.3"
  }
 },
 "nbformat": 4,
 "nbformat_minor": 2
}
